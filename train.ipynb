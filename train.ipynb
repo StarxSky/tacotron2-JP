{
 "cells": [
  {
   "cell_type": "markdown",
   "id": "75498eeb",
   "metadata": {},
   "source": [
    "#### Train without pretrained model"
   ]
  },
  {
   "cell_type": "code",
   "execution_count": 1,
   "id": "d5f5590e-1817-4665-9bdf-1ff06c0f7f96",
   "metadata": {},
   "outputs": [
    {
     "name": "stdout",
     "output_type": "stream",
     "text": [
      "FP16 Run: False\n",
      "Dynamic Loss Scaling: True\n",
      "Distributed Run: False\n",
      "cuDNN Enabled: True\n",
      "cuDNN Benchmark: False\n",
      "Epoch: 0\n"
     ]
    },
    {
     "name": "stderr",
     "output_type": "stream",
     "text": [
      "c:\\Users\\xbj0916\\Desktop\\tacotron2-japanese-master\\stft.py:67: FutureWarning: Pass size=1024 as keyword args. From version 0.10 passing these as positional arguments will result in an error\n",
      "  fft_window = pad_center(fft_window, filter_length)\n",
      "c:\\Users\\xbj0916\\Desktop\\tacotron2-japanese-master\\layers.py:51: FutureWarning: Pass sr=48000, n_fft=1024, n_mels=80, fmin=0.0, fmax=8000.0 as keyword args. From version 0.10 passing these as positional arguments will result in an error\n",
      "  sampling_rate, filter_length, n_mel_channels, mel_fmin, mel_fmax)\n",
      "Traceback (most recent call last):\n",
      "  File \"train.py\", line 297, in <module>\n",
      "    hparams)\n",
      "  File \"train.py\", line 227, in train\n",
      "    y_pred = model(x)\n",
      "  File \"c:\\Program Files\\Anaconda\\envs\\JP\\lib\\site-packages\\torch\\nn\\modules\\module.py\", line 1130, in _call_impl\n",
      "    return forward_call(*input, **kwargs)\n",
      "  File \"c:\\Users\\xbj0916\\Desktop\\tacotron2-japanese-master\\model.py\", line 508, in forward\n",
      "    encoder_outputs, mels, memory_lengths=text_lengths)\n",
      "  File \"c:\\Program Files\\Anaconda\\envs\\JP\\lib\\site-packages\\torch\\nn\\modules\\module.py\", line 1130, in _call_impl\n",
      "    return forward_call(*input, **kwargs)\n",
      "  File \"c:\\Users\\xbj0916\\Desktop\\tacotron2-japanese-master\\model.py\", line 408, in forward\n",
      "    decoder_input)\n",
      "  File \"c:\\Users\\xbj0916\\Desktop\\tacotron2-japanese-master\\model.py\", line 363, in decode\n",
      "    attention_weights_cat, self.mask)\n",
      "  File \"c:\\Program Files\\Anaconda\\envs\\JP\\lib\\site-packages\\torch\\nn\\modules\\module.py\", line 1130, in _call_impl\n",
      "    return forward_call(*input, **kwargs)\n",
      "  File \"c:\\Users\\xbj0916\\Desktop\\tacotron2-japanese-master\\model.py\", line 77, in forward\n",
      "    attention_hidden_state, processed_memory, attention_weights_cat)\n",
      "  File \"c:\\Users\\xbj0916\\Desktop\\tacotron2-japanese-master\\model.py\", line 60, in get_alignment_energies\n",
      "    processed_query + processed_attention_weights + processed_memory))\n",
      "RuntimeError: [enforce fail at C:\\actions-runner\\_work\\pytorch\\pytorch\\builder\\windows\\pytorch\\c10\\core\\impl\\alloc_cpu.cpp:81] data. DefaultCPUAllocator: not enough memory: you tried to allocate 4227072 bytes.\n"
     ]
    }
   ],
   "source": [
    "!python train.py --output_directory=outdir --log_directory=logdir"
   ]
  },
  {
   "cell_type": "markdown",
   "id": "e673209c",
   "metadata": {},
   "source": [
    "#### Train with a pretrained model"
   ]
  },
  {
   "cell_type": "code",
   "execution_count": null,
   "id": "d5f5590e-1817-4665-9bdf-1ff06c0f7f96",
   "metadata": {},
   "outputs": [],
   "source": [
    "!python train.py --output_directory=outdir --log_directory=logdir -c tacotron2_statedict.pt --warm_start"
   ]
  }
 ],
 "metadata": {
  "kernelspec": {
   "display_name": "Python 3.7.0 ('JP')",
   "language": "python",
   "name": "python3"
  },
  "language_info": {
   "codemirror_mode": {
    "name": "ipython",
    "version": 3
   },
   "file_extension": ".py",
   "mimetype": "text/x-python",
   "name": "python",
   "nbconvert_exporter": "python",
   "pygments_lexer": "ipython3",
   "version": "3.7.0"
  },
  "vscode": {
   "interpreter": {
    "hash": "721e7af9b9350d7f563b896952100b028dbbab88785e2b990cb6ab9446406679"
   }
  }
 },
 "nbformat": 4,
 "nbformat_minor": 5
}
